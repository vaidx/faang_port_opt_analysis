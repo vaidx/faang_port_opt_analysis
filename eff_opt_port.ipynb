{
 "cells": [
  {
   "cell_type": "code",
   "execution_count": 185,
   "metadata": {},
   "outputs": [],
   "source": [
    "import pandas as pd\n",
    "import numpy as np\n",
    "import matplotlib.pyplot as plt\n",
    "import pandas_datareader as web"
   ]
  },
  {
   "cell_type": "code",
   "execution_count": 186,
   "metadata": {},
   "outputs": [],
   "source": [
    "# Getting price data from excel file\n",
    "# df = pd.read_excel(r'project.xlsx')\n",
    "# price_data = df\n",
    "# price_data = price_data.drop(columns = ['Year', 'Month', 'REIT', 'PM', 'EAFE', 'VWRET', 'SPRET', 'TBILL'])\n",
    "# price_data.head()\n",
    "\n",
    "ticker = ['AMZN', 'AAPL', 'NFLX', 'GOOG', 'F']\n",
    "price_data = web.get_data_yahoo(ticker,\n",
    "                           start = '2014-01-01',\n",
    "                           end = '2019-01-01')['Adj Close']"
   ]
  },
  {
   "cell_type": "code",
   "execution_count": 187,
   "metadata": {},
   "outputs": [
    {
     "data": {
      "text/html": [
       "<div>\n",
       "<style scoped>\n",
       "    .dataframe tbody tr th:only-of-type {\n",
       "        vertical-align: middle;\n",
       "    }\n",
       "\n",
       "    .dataframe tbody tr th {\n",
       "        vertical-align: top;\n",
       "    }\n",
       "\n",
       "    .dataframe thead th {\n",
       "        text-align: right;\n",
       "    }\n",
       "</style>\n",
       "<table border=\"1\" class=\"dataframe\">\n",
       "  <thead>\n",
       "    <tr style=\"text-align: right;\">\n",
       "      <th>Symbols</th>\n",
       "      <th>AMZN</th>\n",
       "      <th>AAPL</th>\n",
       "      <th>NFLX</th>\n",
       "      <th>GOOG</th>\n",
       "      <th>F</th>\n",
       "    </tr>\n",
       "    <tr>\n",
       "      <th>Date</th>\n",
       "      <th></th>\n",
       "      <th></th>\n",
       "      <th></th>\n",
       "      <th></th>\n",
       "      <th></th>\n",
       "    </tr>\n",
       "  </thead>\n",
       "  <tbody>\n",
       "    <tr>\n",
       "      <th>2013-12-31</th>\n",
       "      <td>NaN</td>\n",
       "      <td>NaN</td>\n",
       "      <td>NaN</td>\n",
       "      <td>NaN</td>\n",
       "      <td>NaN</td>\n",
       "    </tr>\n",
       "    <tr>\n",
       "      <th>2014-01-02</th>\n",
       "      <td>-0.002058</td>\n",
       "      <td>-0.014164</td>\n",
       "      <td>-0.014638</td>\n",
       "      <td>-0.006796</td>\n",
       "      <td>0.000648</td>\n",
       "    </tr>\n",
       "    <tr>\n",
       "      <th>2014-01-03</th>\n",
       "      <td>-0.003852</td>\n",
       "      <td>-0.022211</td>\n",
       "      <td>0.000771</td>\n",
       "      <td>-0.007322</td>\n",
       "      <td>0.004524</td>\n",
       "    </tr>\n",
       "    <tr>\n",
       "      <th>2014-01-06</th>\n",
       "      <td>-0.007113</td>\n",
       "      <td>0.005438</td>\n",
       "      <td>-0.009769</td>\n",
       "      <td>0.011088</td>\n",
       "      <td>0.004503</td>\n",
       "    </tr>\n",
       "    <tr>\n",
       "      <th>2014-01-07</th>\n",
       "      <td>0.011116</td>\n",
       "      <td>-0.007178</td>\n",
       "      <td>-0.057435</td>\n",
       "      <td>0.019095</td>\n",
       "      <td>-0.012920</td>\n",
       "    </tr>\n",
       "  </tbody>\n",
       "</table>\n",
       "</div>"
      ],
      "text/plain": [
       "Symbols         AMZN      AAPL      NFLX      GOOG         F\n",
       "Date                                                        \n",
       "2013-12-31       NaN       NaN       NaN       NaN       NaN\n",
       "2014-01-02 -0.002058 -0.014164 -0.014638 -0.006796  0.000648\n",
       "2014-01-03 -0.003852 -0.022211  0.000771 -0.007322  0.004524\n",
       "2014-01-06 -0.007113  0.005438 -0.009769  0.011088  0.004503\n",
       "2014-01-07  0.011116 -0.007178 -0.057435  0.019095 -0.012920"
      ]
     },
     "execution_count": 187,
     "metadata": {},
     "output_type": "execute_result"
    }
   ],
   "source": [
    "#calculating log returns\n",
    "log_ret = np.log(price_data/price_data.shift(1))\n",
    "log_ret.head()"
   ]
  },
  {
   "cell_type": "code",
   "execution_count": 188,
   "metadata": {},
   "outputs": [
    {
     "name": "stdout",
     "output_type": "stream",
     "text": [
      "Symbols      AMZN      AAPL      NFLX      GOOG         F\n",
      "Symbols                                                  \n",
      "AMZN     1.000000  0.430362  0.453641  0.623503  0.290659\n",
      "AAPL     0.430362  1.000000  0.333213  0.473584  0.296820\n",
      "NFLX     0.453641  0.333213  1.000000  0.465337  0.210053\n",
      "GOOG     0.623503  0.473584  0.465337  1.000000  0.332357\n",
      "F        0.290659  0.296820  0.210053  0.332357  1.000000\n"
     ]
    }
   ],
   "source": [
    "#correlaion matrix\n",
    "corr_mat = log_ret.corr()\n",
    "print (corr_mat)"
   ]
  },
  {
   "cell_type": "code",
   "execution_count": 189,
   "metadata": {},
   "outputs": [
    {
     "name": "stdout",
     "output_type": "stream",
     "text": [
      "Symbols      AMZN      AAPL      NFLX      GOOG         F\n",
      "Symbols                                                  \n",
      "AMZN     0.095210  0.031783  0.059857  0.044820  0.020807\n",
      "AAPL     0.031783  0.057286  0.034104  0.026407  0.016482\n",
      "NFLX     0.059857  0.034104  0.182862  0.046358  0.020839\n",
      "GOOG     0.044820  0.026407  0.046358  0.054273  0.017963\n",
      "F        0.020807  0.016482  0.020839  0.017963  0.053824\n"
     ]
    }
   ],
   "source": [
    "#covariance matrix\n",
    "cov_mat = log_ret.cov()*252\n",
    "print (cov_mat)"
   ]
  },
  {
   "cell_type": "code",
   "execution_count": 199,
   "metadata": {},
   "outputs": [],
   "source": [
    "# Simulating 5000 portfolios\n",
    "num_port = 50\n",
    "# Creating an empty array to store portfolio weights\n",
    "all_wts = np.zeros((num_port, len(price_data.columns)))\n",
    "# Creating an empty array to store portfolio returns\n",
    "port_returns = np.zeros((num_port))\n",
    "# Creating an empty array to store portfolio risks\n",
    "port_risk = np.zeros((num_port))\n",
    "# Creating an empty array to store portfolio sharpe ratio\n",
    "sharpe_ratio = np.zeros((num_port))"
   ]
  },
  {
   "cell_type": "code",
   "execution_count": 200,
   "metadata": {},
   "outputs": [],
   "source": [
    "for i in range(num_port):\n",
    "        wts = np.random.uniform(size = len(price_data.columns))\n",
    "        wts = wts/np.sum(wts)\n",
    "  \n",
    "      # saving weights in the array\n",
    "        all_wts[i,:] = wts\n",
    "  \n",
    "      # Portfolio Returns\n",
    "  \n",
    "        port_ret = np.sum(log_ret.mean() * wts)\n",
    "        port_ret = (port_ret + 1) ** 252 - 1\n",
    "  \n",
    "      # Saving Portfolio returns\n",
    "        port_returns[i] = port_ret\n",
    "  \n",
    "      # Portfolio Risk\n",
    "        port_sd = np.sqrt(np.dot(wts.T, np.dot(cov_mat, wts)))\n",
    "        port_risk[i] = port_sd\n",
    "        \n",
    "    # Portfolio Sharpe Ratio\n",
    "    # Assuming 0% Risk Free Rate\n",
    "        sr = port_ret / port_sd\n",
    "        sharpe_ratio[i] = sr"
   ]
  },
  {
   "cell_type": "code",
   "execution_count": 201,
   "metadata": {},
   "outputs": [
    {
     "name": "stdout",
     "output_type": "stream",
     "text": [
      "[0.04603147 0.24310993 0.03213503 0.28439519 0.39432838]\n"
     ]
    }
   ],
   "source": [
    "names = price_data.columns\n",
    "min_var = all_wts[port_risk.argmin()]\n",
    "print(min_var)"
   ]
  },
  {
   "cell_type": "code",
   "execution_count": 202,
   "metadata": {},
   "outputs": [
    {
     "name": "stdout",
     "output_type": "stream",
     "text": [
      "[0.47265406 0.01782921 0.38440504 0.12201515 0.00309654]\n"
     ]
    }
   ],
   "source": [
    "max_sr = all_wts[sharpe_ratio.argmax()]\n",
    "print(max_sr)"
   ]
  },
  {
   "cell_type": "code",
   "execution_count": 203,
   "metadata": {},
   "outputs": [
    {
     "name": "stdout",
     "output_type": "stream",
     "text": [
      "1.0768903097421059\n"
     ]
    }
   ],
   "source": [
    "print(sharpe_ratio.max())"
   ]
  },
  {
   "cell_type": "code",
   "execution_count": 204,
   "metadata": {},
   "outputs": [
    {
     "name": "stdout",
     "output_type": "stream",
     "text": [
      "0.17916892323540257\n"
     ]
    }
   ],
   "source": [
    "print(port_risk.min())"
   ]
  },
  {
   "cell_type": "code",
   "execution_count": 205,
   "metadata": {},
   "outputs": [
    {
     "data": {
      "image/png": "[encoded data removed]",
      "text/plain": [
       "<Figure size 432x288 with 1 Axes>"
      ]
     },
     "metadata": {
      "needs_background": "light"
     },
     "output_type": "display_data"
    }
   ],
   "source": [
    "min_var = pd.Series(min_var, index=names)\n",
    "min_var = min_var.sort_values()\n",
    "fig = plt.figure()\n",
    "ax1 = fig.add_axes([0.1,0.1,0.8,0.8])\n",
    "ax1.set_xlabel('Asset')\n",
    "ax1.set_ylabel(\"Weights\")\n",
    "ax1.set_title(\"Minimum Variance Portfolio weights\")\n",
    "min_var.plot(kind = 'bar')\n",
    "plt.show();"
   ]
  },
  {
   "cell_type": "code",
   "execution_count": 206,
   "metadata": {},
   "outputs": [
    {
     "data": {
      "image/png": "[encoded data removed]",
      "text/plain": [
       "<Figure size 432x288 with 1 Axes>"
      ]
     },
     "metadata": {
      "needs_background": "light"
     },
     "output_type": "display_data"
    }
   ],
   "source": [
    "max_sr = pd.Series(max_sr, index=names)\n",
    "max_sr = max_sr.sort_values()\n",
    "fig = plt.figure()\n",
    "ax1 = fig.add_axes([0.1,0.1,0.8,0.8])\n",
    "ax1.set_xlabel('Asset')\n",
    "ax1.set_ylabel(\"Weights\")\n",
    "ax1.set_title(\"Tangency Portfolio weights\")\n",
    "max_sr.plot(kind = 'bar')\n",
    "plt.show();"
   ]
  },
  {
   "cell_type": "code",
   "execution_count": 207,
   "metadata": {},
   "outputs": [
    {
     "data": {
      "image/png": "[encoded data removed]",
      "text/plain": [
       "<Figure size 432x288 with 1 Axes>"
      ]
     },
     "metadata": {
      "needs_background": "light"
     },
     "output_type": "display_data"
    }
   ],
   "source": [
    "fig = plt.figure()\n",
    "ax1 = fig.add_axes([0.1,0.1,0.8,0.8])\n",
    "ax1.set_xlabel('Risk')\n",
    "ax1.set_ylabel(\"Returns\")\n",
    "ax1.set_title(\"Portfolio optimization and Efficient Frontier\")\n",
    "plt.scatter(port_risk, port_returns)\n",
    "plt.show()"
   ]
  },
  {
   "cell_type": "code",
   "execution_count": null,
   "metadata": {},
   "outputs": [],
   "source": []
  }
 ],
 "metadata": {
  "kernelspec": {
   "display_name": "Python 3",
   "language": "python",
   "name": "python3"
  },
  "language_info": {
   "codemirror_mode": {
    "name": "ipython",
    "version": 3
   },
   "file_extension": ".py",
   "mimetype": "text/x-python",
   "name": "python",
   "nbconvert_exporter": "python",
   "pygments_lexer": "ipython3",
   "version": "3.8.0"
  }
 },
 "nbformat": 4,
 "nbformat_minor": 2
}
